{
  "cells": [
    {
      "cell_type": "markdown",
      "metadata": {
        "id": "DW9TC6raeVp9"
      },
      "source": [
        "# Google Developer Students Club\n",
        "\n",
        "Build your ML portfolio with NLP\n",
        "---\n",
        "Using Named Entity Recognition we will learn how to train a custom model to automatically summarize content by identifying key entities and extracting sensitive information from them. "
      ]
    },
    {
      "cell_type": "markdown",
      "metadata": {
        "id": "1eMwtBx24ZXU"
      },
      "source": [
        "## Setup & Imports"
      ]
    },
    {
      "cell_type": "code",
      "execution_count": 1,
      "metadata": {
        "id": "M377Y-YQpO7P"
      },
      "outputs": [],
      "source": [
        "!pip install -U spacy -q"
      ]
    },
    {
      "cell_type": "code",
      "execution_count": null,
      "metadata": {
        "id": "ZtsMGe4SpTNN"
      },
      "outputs": [],
      "source": [
        "!python -m spacy download en_core_web_md -q"
      ]
    },
    {
      "cell_type": "code",
      "execution_count": null,
      "metadata": {
        "id": "F2Rfs8QlFJuC"
      },
      "outputs": [],
      "source": [
        "!pip show spacy\n"
      ]
    },
    {
      "cell_type": "code",
      "execution_count": 35,
      "metadata": {
        "id": "xsTUQQspHnAW"
      },
      "outputs": [],
      "source": [
        "import spacy\n",
        "from spacy import displacy\n",
        "from IPython.core.display import HTML\n",
        "\n",
        "# Loading a pre-trained NLP language model to start.\n",
        "\n",
        "nlp = spacy.load('en_core_web_md')\n"
      ]
    },
    {
      "cell_type": "markdown",
      "metadata": {
        "id": "HysggX1vPMq0"
      },
      "source": [
        "## NLP Capabilities\n",
        "\n",
        "*   Named Entity Recognition\n",
        "*   Similarity & Vectors for Semantic search, Anomaly Detection etc.\n",
        "*   Part-of-Speech (POS) tagging\n",
        "*   Text extraction and classification\n",
        "*   ...\n",
        "*   Also... pretty much anything large language model enabled generative AI can do 😀\n",
        "\n",
        "> _We'll cover usecases and what these capabilities are used for at the end._\n",
        "\n"
      ]
    },
    {
      "cell_type": "markdown",
      "metadata": {
        "id": "KgAeH7IVwZiq"
      },
      "source": [
        "### Semantic Search (Vectors & Similarity)"
      ]
    },
    {
      "cell_type": "code",
      "execution_count": 36,
      "metadata": {
        "id": "n4xjHaWApysu",
        "colab": {
          "base_uri": "https://localhost:8080/"
        },
        "outputId": "0ae80407-185d-4134-b06e-b9ce3803079e"
      },
      "outputs": [
        {
          "output_type": "stream",
          "name": "stdout",
          "text": [
            "0.8722925944423142\n"
          ]
        }
      ],
      "source": [
        "doc1 = nlp(\"the bees decided to have a mutiny against their queen\")\n",
        "doc2 = nlp(\"flying stinging insects rebelled in opposition to the matriarch\")\n",
        "\n",
        "# Get the similarity of doc1 and doc2\n",
        "similarity = doc1.similarity(doc2)\n",
        "print(similarity)"
      ]
    },
    {
      "cell_type": "code",
      "execution_count": null,
      "metadata": {
        "id": "KaYRUK7_p6cQ"
      },
      "outputs": [],
      "source": [
        "# Spacy doc object\n",
        "doc = nlp(\"This was a great restaurant. Afterwards, we went to a really nice bar.\")\n",
        "\n",
        "# Create spans for \"great restaurant\" and \"really nice bar\"\n",
        "span1 = doc[3:5]\n",
        "span2 = doc[12:15]\n",
        "\n",
        "# Get the similarity of the spans\n",
        "similarity = span1.similarity(span2)\n",
        "print(similarity)"
      ]
    },
    {
      "cell_type": "markdown",
      "metadata": {
        "id": "3Jtbg1dlH5d2"
      },
      "source": [
        "### Parts of Speech Tagging"
      ]
    },
    {
      "cell_type": "code",
      "execution_count": 37,
      "metadata": {
        "colab": {
          "base_uri": "https://localhost:8080/"
        },
        "id": "6P-77148IBoN",
        "outputId": "a504157c-7752-41d5-a94e-4a3d12b6c2ed"
      },
      "outputs": [
        {
          "output_type": "stream",
          "name": "stdout",
          "text": [
            "I  👉  PRON\n",
            "am  👉  AUX\n",
            "writing  👉  VERB\n",
            "to  👉  PART\n",
            "report  👉  VERB\n",
            "a  👉  DET\n",
            "bug  👉  NOUN\n",
            "in  👉  ADP\n",
            "the  👉  DET\n",
            "website  👉  NOUN\n",
            ".  👉  PUNCT\n",
            "I  👉  PRON\n",
            "was  👉  AUX\n",
            "trying  👉  VERB\n",
            "to  👉  PART\n",
            "make  👉  VERB\n",
            "a  👉  DET\n",
            "purchase  👉  NOUN\n",
            ",  👉  PUNCT\n",
            "and  👉  CCONJ\n",
            "when  👉  SCONJ\n",
            "I  👉  PRON\n",
            "entered  👉  VERB\n",
            "my  👉  PRON\n",
            "credit  👉  NOUN\n",
            "card  👉  NOUN\n",
            "number  👉  NOUN\n",
            ",  👉  PUNCT\n",
            "it  👉  PRON\n",
            "was  👉  AUX\n",
            "displayed  👉  VERB\n",
            "on  👉  ADP\n",
            "the  👉  DET\n",
            "screen  👉  NOUN\n",
            "in  👉  ADP\n",
            "plain  👉  ADJ\n",
            "text  👉  NOUN\n",
            ".  👉  PUNCT\n",
            "I  👉  PRON\n",
            "am  👉  AUX\n",
            "concerned  👉  ADJ\n",
            "that  👉  SCONJ\n",
            "this  👉  PRON\n",
            "is  👉  AUX\n",
            "a  👉  DET\n",
            "security  👉  NOUN\n",
            "risk  👉  NOUN\n",
            ",  👉  PUNCT\n",
            "and  👉  CCONJ\n",
            "I  👉  PRON\n",
            "would  👉  AUX\n",
            "like  👉  VERB\n",
            "it  👉  PRON\n",
            "to  👉  PART\n",
            "be  👉  AUX\n",
            "fixed  👉  VERB\n",
            ".  👉  PUNCT\n",
            "Here  👉  ADV\n",
            "is  👉  AUX\n",
            "the  👉  DET\n",
            "credit  👉  NOUN\n",
            "card  👉  NOUN\n",
            "number  👉  NOUN\n",
            "that  👉  PRON\n",
            "was  👉  AUX\n",
            "displayed  👉  VERB\n",
            ":  👉  PUNCT\n",
            "2149889926091208  👉  NUM\n",
            "I  👉  PRON\n",
            "am  👉  AUX\n",
            "also  👉  ADV\n",
            "concerned  👉  ADJ\n",
            "that  👉  SCONJ\n",
            "other  👉  ADJ\n",
            "personal  👉  ADJ\n",
            "information  👉  NOUN\n",
            "may  👉  AUX\n",
            "have  👉  AUX\n",
            "been  👉  AUX\n",
            "leaked  👉  VERB\n",
            ".  👉  PUNCT\n",
            "I  👉  PRON\n",
            "would  👉  AUX\n",
            "like  👉  VERB\n",
            "to  👉  PART\n",
            "know  👉  VERB\n",
            "what  👉  PRON\n",
            "steps  👉  NOUN\n",
            "you  👉  PRON\n",
            "are  👉  AUX\n",
            "taking  👉  VERB\n",
            "to  👉  PART\n",
            "protect  👉  VERB\n",
            "my  👉  PRON\n",
            "privacy  👉  NOUN\n",
            ".  👉  PUNCT\n",
            "Thank  👉  VERB\n",
            "you  👉  PRON\n",
            "for  👉  ADP\n",
            "your  👉  PRON\n",
            "time  👉  NOUN\n",
            ".  👉  PUNCT\n"
          ]
        }
      ],
      "source": [
        "# Iterate over the tokens\n",
        "for token in doc:\n",
        "    # Print the token and its part-of-speech tag\n",
        "    print(token.text, \" 👉 \", token.pos_)"
      ]
    },
    {
      "cell_type": "markdown",
      "metadata": {
        "id": "Zur9acPKa88P"
      },
      "source": [
        "# Let's teach machines to recognize sensitive data"
      ]
    },
    {
      "cell_type": "markdown",
      "metadata": {
        "id": "DNenQFc7owo2"
      },
      "source": [
        "Setup above\n",
        "\n",
        "```\n",
        "import spacy\n",
        "from spacy import displacy\n",
        "from IPython.core.display import HTML\n",
        "\n",
        "nlp = spacy.load('en_core_web_md')\n",
        "```"
      ]
    },
    {
      "cell_type": "code",
      "execution_count": 39,
      "metadata": {
        "id": "cUFiwuXBYask"
      },
      "outputs": [],
      "source": [
        "#@title 1.Data Loading {display-mode: \"form\"}\n",
        "\n",
        "txt = \"In West Philadelphia born and raised, on the playground is where Kwame Appiah spent most of the December. \"\n",
        "txt += \"Chillin out maxing relaxing in the Mennonite farmlands he spent 25 dollars on 2 pounds of corn. \"\n",
        "txt += \"He used this Visa 4290 7558 4051 5357 which seemed expired so he moved up to live with his auntie and uncle in Bel Air.\"\n",
        "\n",
        "doc = nlp(txt)\n"
      ]
    },
    {
      "cell_type": "markdown",
      "metadata": {
        "id": "X4zPpw9mqjp8"
      },
      "source": [
        "![spacy-pipeline.png](data:image/png;base64,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)"
      ]
    },
    {
      "cell_type": "code",
      "execution_count": 40,
      "metadata": {
        "colab": {
          "base_uri": "https://localhost:8080/"
        },
        "id": "qNOjVB8kvdwp",
        "outputId": "a1a2d615-263a-4855-a832-838ddb1654c4"
      },
      "outputs": [
        {
          "output_type": "stream",
          "name": "stdout",
          "text": [
            "West Philadelphia | GPE | Countries, cities, states\n",
            "Kwame Appiah | PERSON | People, including fictional\n",
            "December | DATE | Absolute or relative dates or periods\n",
            "Mennonite | NORP | Nationalities or religious or political groups\n",
            "25 dollars | MONEY | Monetary values, including unit\n",
            "2 pounds | QUANTITY | Measurements, as of weight or distance\n",
            "Visa | ORG | Companies, agencies, institutions, etc.\n",
            "Bel Air | ORG | Companies, agencies, institutions, etc.\n"
          ]
        }
      ],
      "source": [
        "#@title 2.Text Pre-processing for EDA & training {display-mode: \"form\"}\n",
        "\n",
        "for ent in doc.ents:\n",
        "      print (ent.text, \"|\", ent.label_, \"|\", spacy.explain(ent.label_))\n"
      ]
    },
    {
      "cell_type": "code",
      "execution_count": 41,
      "metadata": {
        "colab": {
          "base_uri": "https://localhost:8080/",
          "height": 197
        },
        "id": "LM-E3rdtHxDA",
        "outputId": "5bc2c7de-3b17-4f5f-ab90-4d12bddfaf98"
      },
      "outputs": [
        {
          "output_type": "display_data",
          "data": {
            "text/plain": [
              "<IPython.core.display.HTML object>"
            ],
            "text/html": [
              "<!DOCTYPE html>\n",
              "<html lang=\"en\">\n",
              "    <head>\n",
              "        <title>displaCy</title>\n",
              "    </head>\n",
              "\n",
              "    <body style=\"font-size: 16px; font-family: -apple-system, BlinkMacSystemFont, 'Segoe UI', Helvetica, Arial, sans-serif, 'Apple Color Emoji', 'Segoe UI Emoji', 'Segoe UI Symbol'; padding: 4rem 2rem; direction: ltr\">\n",
              "<figure style=\"margin-bottom: 6rem\">\n",
              "<div class=\"entities\" style=\"line-height: 2.5; direction: ltr\">In \n",
              "<mark class=\"entity\" style=\"background: #feca74; padding: 0.45em 0.6em; margin: 0 0.25em; line-height: 1; border-radius: 0.35em;\">\n",
              "    West Philadelphia\n",
              "    <span style=\"font-size: 0.8em; font-weight: bold; line-height: 1; border-radius: 0.35em; vertical-align: middle; margin-left: 0.5rem\">GPE</span>\n",
              "</mark>\n",
              " born and raised, on the playground is where \n",
              "<mark class=\"entity\" style=\"background: #aa9cfc; padding: 0.45em 0.6em; margin: 0 0.25em; line-height: 1; border-radius: 0.35em;\">\n",
              "    Kwame Appiah\n",
              "    <span style=\"font-size: 0.8em; font-weight: bold; line-height: 1; border-radius: 0.35em; vertical-align: middle; margin-left: 0.5rem\">PERSON</span>\n",
              "</mark>\n",
              " spent most of the \n",
              "<mark class=\"entity\" style=\"background: #bfe1d9; padding: 0.45em 0.6em; margin: 0 0.25em; line-height: 1; border-radius: 0.35em;\">\n",
              "    December\n",
              "    <span style=\"font-size: 0.8em; font-weight: bold; line-height: 1; border-radius: 0.35em; vertical-align: middle; margin-left: 0.5rem\">DATE</span>\n",
              "</mark>\n",
              ". Chillin out maxing relaxing in the \n",
              "<mark class=\"entity\" style=\"background: #c887fb; padding: 0.45em 0.6em; margin: 0 0.25em; line-height: 1; border-radius: 0.35em;\">\n",
              "    Mennonite\n",
              "    <span style=\"font-size: 0.8em; font-weight: bold; line-height: 1; border-radius: 0.35em; vertical-align: middle; margin-left: 0.5rem\">NORP</span>\n",
              "</mark>\n",
              " farmlands he spent \n",
              "<mark class=\"entity\" style=\"background: #e4e7d2; padding: 0.45em 0.6em; margin: 0 0.25em; line-height: 1; border-radius: 0.35em;\">\n",
              "    25 dollars\n",
              "    <span style=\"font-size: 0.8em; font-weight: bold; line-height: 1; border-radius: 0.35em; vertical-align: middle; margin-left: 0.5rem\">MONEY</span>\n",
              "</mark>\n",
              " on \n",
              "<mark class=\"entity\" style=\"background: #e4e7d2; padding: 0.45em 0.6em; margin: 0 0.25em; line-height: 1; border-radius: 0.35em;\">\n",
              "    2 pounds\n",
              "    <span style=\"font-size: 0.8em; font-weight: bold; line-height: 1; border-radius: 0.35em; vertical-align: middle; margin-left: 0.5rem\">QUANTITY</span>\n",
              "</mark>\n",
              " of corn. He used this \n",
              "<mark class=\"entity\" style=\"background: #7aecec; padding: 0.45em 0.6em; margin: 0 0.25em; line-height: 1; border-radius: 0.35em;\">\n",
              "    Visa\n",
              "    <span style=\"font-size: 0.8em; font-weight: bold; line-height: 1; border-radius: 0.35em; vertical-align: middle; margin-left: 0.5rem\">ORG</span>\n",
              "</mark>\n",
              " 4290 7558 4051 5357 which seemed expired so he moved up to live with his auntie and uncle in \n",
              "<mark class=\"entity\" style=\"background: #7aecec; padding: 0.45em 0.6em; margin: 0 0.25em; line-height: 1; border-radius: 0.35em;\">\n",
              "    Bel Air\n",
              "    <span style=\"font-size: 0.8em; font-weight: bold; line-height: 1; border-radius: 0.35em; vertical-align: middle; margin-left: 0.5rem\">ORG</span>\n",
              "</mark>\n",
              ".</div>\n",
              "</figure>\n",
              "</body>\n",
              "</html>"
            ]
          },
          "metadata": {}
        }
      ],
      "source": [
        "#@title 2.1.Visualizing data saves time {display-mode: \"form\"}\n",
        "\n",
        "html = displacy.render(doc, style='ent', jupyter=False, page=True)\n",
        "\n",
        "displacy.render(doc, style='ent')\n",
        "display(HTML(html))"
      ]
    },
    {
      "cell_type": "code",
      "execution_count": 43,
      "metadata": {
        "colab": {
          "base_uri": "https://localhost:8080/",
          "height": 1000
        },
        "id": "Rjc5J_8CPudd",
        "outputId": "95fa39f1-d1de-47ba-f014-d6d9af217cad"
      },
      "outputs": [
        {
          "name": "stdout",
          "output_type": "stream",
          "text": [
            "Losses {'ner': 104.32879197597504}\n",
            "Losses {'ner': 58.27892084419727}\n",
            "Losses {'ner': 12.540571574354544}\n",
            "Losses {'ner': 2.346784768318936}\n",
            "Losses {'ner': 2.0014413424104824}\n",
            "Losses {'ner': 1.9989475039628024}\n",
            "Losses {'ner': 1.9998161822266154}\n",
            "Losses {'ner': 1.9994804030176743}\n",
            "Losses {'ner': 1.9977626873087897}\n",
            "Losses {'ner': 1.0807187498433208}\n",
            "Losses {'ner': 1.0227865519023405}\n",
            "Losses {'ner': 1.538680896717123}\n",
            "Losses {'ner': 0.9839845993347617}\n",
            "Losses {'ner': 8.104126268830338}\n",
            "Losses {'ner': 3.314506359088822}\n",
            "Losses {'ner': 3.8404053297582346}\n",
            "Losses {'ner': 2.658389012913861}\n",
            "Losses {'ner': 3.690802996869524}\n",
            "Losses {'ner': 0.9716242596232548}\n",
            "Losses {'ner': 3.4820730048504034}\n",
            "Losses {'ner': 1.6894971700130457}\n",
            "Losses {'ner': 0.7199509077402539}\n",
            "Losses {'ner': 0.4680581441444486}\n",
            "Losses {'ner': 0.32007752863796013}\n",
            "Losses {'ner': 0.06487308386123239}\n",
            "Losses {'ner': 0.0019010329226784417}\n",
            "Losses {'ner': 1.9989604052132781}\n",
            "Losses {'ner': 1.9951137135366745}\n",
            "Losses {'ner': 0.000340045539210832}\n",
            "Losses {'ner': 7.267687685059065e-05}\n",
            "Losses {'ner': 0.00036806147964411705}\n",
            "Losses {'ner': 1.321314241443513e-05}\n",
            "Losses {'ner': 0.14985548950193203}\n",
            "Losses {'ner': 1.0747913237047434e-05}\n",
            "Losses {'ner': 1.1278242302877647e-05}\n",
            "Losses {'ner': 4.623475368570223e-05}\n",
            "Losses {'ner': 8.011022950094372e-06}\n",
            "Losses {'ner': 1.3658261060483488e-07}\n",
            "Losses {'ner': 3.327131264196158e-07}\n",
            "Losses {'ner': 4.455877106306678e-06}\n",
            "Losses {'ner': 3.529394170753969e-06}\n",
            "Losses {'ner': 3.579368119154201e-08}\n",
            "Losses {'ner': 1.0452164318591774e-07}\n",
            "Losses {'ner': 9.986532255377206e-09}\n",
            "Losses {'ner': 2.4539186194260853e-06}\n",
            "Losses {'ner': 2.2113977556161234e-07}\n",
            "Losses {'ner': 7.384848563224101e-08}\n",
            "Losses {'ner': 1.4328480975892847e-07}\n",
            "Losses {'ner': 4.194312831902392e-09}\n",
            "Losses {'ner': 6.545391762604558e-06}\n",
            "Prompt: Hey why is my credit card not working, i keep putting 4000 1234 0000 4835 in the form but it rejects it.\n"
          ]
        },
        {
          "output_type": "display_data",
          "data": {
            "text/plain": [
              "<IPython.core.display.HTML object>"
            ],
            "text/html": [
              "<!DOCTYPE html>\n",
              "<html lang=\"en\">\n",
              "    <head>\n",
              "        <title>displaCy</title>\n",
              "    </head>\n",
              "\n",
              "    <body style=\"font-size: 16px; font-family: -apple-system, BlinkMacSystemFont, 'Segoe UI', Helvetica, Arial, sans-serif, 'Apple Color Emoji', 'Segoe UI Emoji', 'Segoe UI Symbol'; padding: 4rem 2rem; direction: ltr\">\n",
              "<figure style=\"margin-bottom: 6rem\">\n",
              "<div class=\"entities\" style=\"line-height: 2.5; direction: ltr\">Hey why is my credit card not working, i keep putting 4000 \n",
              "<mark class=\"entity\" style=\"background: #ddd; padding: 0.45em 0.6em; margin: 0 0.25em; line-height: 1; border-radius: 0.35em;\">\n",
              "    1234 0000 4835\n",
              "    <span style=\"font-size: 0.8em; font-weight: bold; line-height: 1; border-radius: 0.35em; vertical-align: middle; margin-left: 0.5rem\">CREDIT_CARD</span>\n",
              "</mark>\n",
              " in the form but it rejects it.</div>\n",
              "</figure>\n",
              "</body>\n",
              "</html>"
            ]
          },
          "metadata": {}
        }
      ],
      "source": [
        "#@title  3.Model Training {display-mode: \"form\"}\n",
        "\n",
        "import spacy\n",
        "import random\n",
        "from spacy.util import minibatch, compounding\n",
        "from IPython.core.display import HTML\n",
        "from spacy import displacy\n",
        "from spacy.training import Example\n",
        "\n",
        "TRAIN_DATA = [\n",
        "    (\"Can I share my credit card number? 4290 7558 4051 5355\", {\"entities\": [(35, 55, \"CREDIT_CARD\")]}),\n",
        "    (\"1234 5678 9012 3456.\", {\"entities\": [(0, 19, \"CREDIT_CARD\")]}),\n",
        "    (\"I accidentally shared my card details 9876 5432 1098 1111 with someone.\", {\"entities\": [(36, 56, \"CREDIT_CARD\")]}),\n",
        "    (\"I paid with my credit card 4532 0136 7890 1245 for the purchase.\", {\"entities\": [(26, 46, \"CREDIT_CARD\")]}),\n",
        "    (\"The transaction was made using card number 6011 5832 4321 9876.\", {\"entities\": [(40, 60, \"CREDIT_CARD\")]}),\n",
        "    (\"He entered the card details 3456 7890 1234 5678 on the website.\", {\"entities\": [(29, 49, \"CREDIT_CARD\")]}),\n",
        "    (\"My new credit card number is 4929 0123 4567 8901.\", {\"entities\": [(28, 48, \"CREDIT_CARD\")]}),\n",
        "    (\"Please use the following card 6771 5467 8901 2345 for payment.\", {\"entities\": [(30, 50, \"CREDIT_CARD\")]}),\n",
        "    (\"The customer provided card number 6011 0009 8765 4321 for billing.\", {\"entities\": [(34, 54, \"CREDIT_CARD\")]}),\n",
        "    (\"She handed over her card 4716 0123 4567 8901 at the counter.\", {\"entities\": [(23, 43, \"CREDIT_CARD\")]}),\n",
        "    (\"I used 6011 1111 2222 3333 during checkout.\", {\"entities\": [(6, 26, \"CREDIT_CARD\")]}),\n",
        "    (\"Why does it say my card 4485 6789 0123 4567 isn't working?\", {\"entities\": [(22, 42, \"CREDIT_CARD\")]}),\n",
        "    (\"Can I share my card 2221 0012 3456 7890?\", {\"entities\": [(17, 37, \"CREDIT_CARD\")]}),\n",
        "    (\"My credit card number is 4290755840515355.\", {\"entities\": [(23, 39, \"CREDIT_CARD\")]}),\n",
        "    (\"I paid with my credit card 4290 7558 4051 5355 at the store.\", {\"entities\": [(26, 46, \"CREDIT_CARD\")]}),\n",
        "    (\"The transaction was made using card number 4000567890123456.\", {\"entities\": [(40, 56, \"CREDIT_CARD\")]}),\n",
        "    (\"He entered the card details 6789 0123 4567 8901 on the website.\", {\"entities\": [(29, 49, \"CREDIT_CARD\")]})\n",
        "]\n",
        "\n",
        "# Load a blank spacy model for our custom training \n",
        "nlp = spacy.blank(\"en\")\n",
        "ner = nlp.add_pipe(\"ner\", last=True)\n",
        "ner.add_label(\"CREDIT_CARD\")\n",
        "\n",
        "# Convert the training data to a list of Example objects\n",
        "examples = []\n",
        "for text, annots in TRAIN_DATA:\n",
        "    doc = nlp.make_doc(text)\n",
        "    example = Example.from_dict(doc, annots)\n",
        "    examples.append(example)\n",
        "\n",
        "# Train the NER model\n",
        "optimizer = nlp.initialize()\n",
        "for i in range(50):  # Number of training iterations\n",
        "    random.shuffle(examples)\n",
        "    losses = {}\n",
        "    batches = minibatch(examples, size=compounding(4.0, 32.0, 1.001))\n",
        "    for batch in batches:\n",
        "        nlp.update(batch, sgd=optimizer, drop=0.35, losses=losses)\n",
        "    print(\"Losses\", losses)\n",
        "\n",
        "# Test the new custom model\n",
        "txt = input(\"Prompt: \")\n",
        "doc = nlp(txt)\n",
        "\n",
        "# Render the named entities using displacy\n",
        "html = displacy.render(doc, style='ent', jupyter=False, page=True)\n",
        "\n",
        "# Display the HTML\n",
        "display(HTML(html))"
      ]
    },
    {
      "cell_type": "markdown",
      "metadata": {
        "id": "aTmxoRQd4zZn"
      },
      "source": [
        "## 4.Model Evaluation"
      ]
    },
    {
      "cell_type": "code",
      "execution_count": 44,
      "metadata": {
        "colab": {
          "base_uri": "https://localhost:8080/",
          "height": 425
        },
        "id": "XY_2kwBScz0p",
        "outputId": "7e587e2f-e916-4c57-b6e6-0f1eb7f3f85d"
      },
      "outputs": [
        {
          "output_type": "stream",
          "name": "stderr",
          "text": [
            "/usr/local/lib/python3.10/dist-packages/spacy/training/iob_utils.py:149: UserWarning: [W030] Some entities could not be aligned in the text \"I accidentally shared my card details 9876 5432 10...\" with entities \"[(31, 50, 'CREDIT_CARD')]\". Use `spacy.training.offsets_to_biluo_tags(nlp.make_doc(text), entities)` to check the alignment. Misaligned entities ('-') will be ignored during training.\n",
            "  warnings.warn(\n",
            "/usr/local/lib/python3.10/dist-packages/spacy/training/iob_utils.py:149: UserWarning: [W030] Some entities could not be aligned in the text \"The transaction was made using card number 6011 58...\" with entities \"[(37, 56, 'CREDIT_CARD')]\". Use `spacy.training.offsets_to_biluo_tags(nlp.make_doc(text), entities)` to check the alignment. Misaligned entities ('-') will be ignored during training.\n",
            "  warnings.warn(\n",
            "/usr/local/lib/python3.10/dist-packages/spacy/training/iob_utils.py:149: UserWarning: [W030] Some entities could not be aligned in the text \"My new credit card number is 4929 0123 4567 8901.\" with entities \"[(27, 46, 'CREDIT_CARD')]\". Use `spacy.training.offsets_to_biluo_tags(nlp.make_doc(text), entities)` to check the alignment. Misaligned entities ('-') will be ignored during training.\n",
            "  warnings.warn(\n",
            "/usr/local/lib/python3.10/dist-packages/spacy/training/iob_utils.py:149: UserWarning: [W030] Some entities could not be aligned in the text \"Please use the following card 6771 5467 8901 2345 ...\" with entities \"[(29, 48, 'CREDIT_CARD')]\". Use `spacy.training.offsets_to_biluo_tags(nlp.make_doc(text), entities)` to check the alignment. Misaligned entities ('-') will be ignored during training.\n",
            "  warnings.warn(\n",
            "/usr/local/lib/python3.10/dist-packages/spacy/training/iob_utils.py:149: UserWarning: [W030] Some entities could not be aligned in the text \"The customer provided card number 6011 0009 8765 4...\" with entities \"[(31, 50, 'CREDIT_CARD')]\". Use `spacy.training.offsets_to_biluo_tags(nlp.make_doc(text), entities)` to check the alignment. Misaligned entities ('-') will be ignored during training.\n",
            "  warnings.warn(\n",
            "/usr/local/lib/python3.10/dist-packages/spacy/training/iob_utils.py:149: UserWarning: [W030] Some entities could not be aligned in the text \"She handed over her card 4716 0123 4567 8901 at th...\" with entities \"[(24, 43, 'CREDIT_CARD')]\". Use `spacy.training.offsets_to_biluo_tags(nlp.make_doc(text), entities)` to check the alignment. Misaligned entities ('-') will be ignored during training.\n",
            "  warnings.warn(\n"
          ]
        },
        {
          "output_type": "display_data",
          "data": {
            "text/plain": [
              "<IPython.core.display.HTML object>"
            ],
            "text/html": [
              "<!DOCTYPE html>\n",
              "<html lang=\"en\">\n",
              "    <head>\n",
              "        <title>displaCy</title>\n",
              "    </head>\n",
              "\n",
              "    <body style=\"font-size: 16px; font-family: -apple-system, BlinkMacSystemFont, 'Segoe UI', Helvetica, Arial, sans-serif, 'Apple Color Emoji', 'Segoe UI Emoji', 'Segoe UI Symbol'; padding: 4rem 2rem; direction: ltr\">\n",
              "<figure style=\"margin-bottom: 6rem\">\n",
              "<div class=\"entities\" style=\"line-height: 2.5; direction: ltr\">In \n",
              "<mark class=\"entity\" style=\"background: #feca74; padding: 0.45em 0.6em; margin: 0 0.25em; line-height: 1; border-radius: 0.35em;\">\n",
              "    West Philadelphia\n",
              "    <span style=\"font-size: 0.8em; font-weight: bold; line-height: 1; border-radius: 0.35em; vertical-align: middle; margin-left: 0.5rem\">GPE</span>\n",
              "</mark>\n",
              " born and raised, on the playground is where \n",
              "<mark class=\"entity\" style=\"background: #ddd; padding: 0.45em 0.6em; margin: 0 0.25em; line-height: 1; border-radius: 0.35em;\">\n",
              "    Noble Ackerson\n",
              "    <span style=\"font-size: 0.8em; font-weight: bold; line-height: 1; border-radius: 0.35em; vertical-align: middle; margin-left: 0.5rem\">CREDIT_CARD</span>\n",
              "</mark>\n",
              " spent most of the December. Chillin out maxing relaxing in the Ghanaian farmlands he spent \n",
              "<mark class=\"entity\" style=\"background: #ddd; padding: 0.45em 0.6em; margin: 0 0.25em; line-height: 1; border-radius: 0.35em;\">\n",
              "    25 dollars\n",
              "    <span style=\"font-size: 0.8em; font-weight: bold; line-height: 1; border-radius: 0.35em; vertical-align: middle; margin-left: 0.5rem\">CREDIT_CARD</span>\n",
              "</mark>\n",
              " on \n",
              "<mark class=\"entity\" style=\"background: #ddd; padding: 0.45em 0.6em; margin: 0 0.25em; line-height: 1; border-radius: 0.35em;\">\n",
              "    2 pounds\n",
              "    <span style=\"font-size: 0.8em; font-weight: bold; line-height: 1; border-radius: 0.35em; vertical-align: middle; margin-left: 0.5rem\">CREDIT_CARD</span>\n",
              "</mark>\n",
              " of corn. He used this credit card number \n",
              "<mark class=\"entity\" style=\"background: #ddd; padding: 0.45em 0.6em; margin: 0 0.25em; line-height: 1; border-radius: 0.35em;\">\n",
              "    4000 7558 4051 5357\n",
              "    <span style=\"font-size: 0.8em; font-weight: bold; line-height: 1; border-radius: 0.35em; vertical-align: middle; margin-left: 0.5rem\">CREDIT_CARD</span>\n",
              "</mark>\n",
              " which seemed expired so he moved up to live with his auntie and uncle in \n",
              "<mark class=\"entity\" style=\"background: #ddd; padding: 0.45em 0.6em; margin: 0 0.25em; line-height: 1; border-radius: 0.35em;\">\n",
              "    Bel Air\n",
              "    <span style=\"font-size: 0.8em; font-weight: bold; line-height: 1; border-radius: 0.35em; vertical-align: middle; margin-left: 0.5rem\">CREDIT_CARD</span>\n",
              "</mark>\n",
              ".</div>\n",
              "</figure>\n",
              "</body>\n",
              "</html>"
            ]
          },
          "metadata": {}
        }
      ],
      "source": [
        "from spacy.util import minibatch, compounding\n",
        "from IPython.core.display import HTML\n",
        "from spacy import displacy\n",
        "from spacy.training import Example\n",
        "\n",
        "# Load the pre-trained model\n",
        "nlp = spacy.load(\"en_core_web_md\")\n",
        "\n",
        "# Get the NER component\n",
        "ner = nlp.get_pipe(\"ner\")\n",
        "\n",
        "# Add the new entity label to the NER component\n",
        "ner.add_label(\"CREDIT_CARD\")\n",
        "\n",
        "# Prepare labeled training data with correct character offsets\n",
        "TRAIN_DATA = [\n",
        "    (\"4290 7558 4051 5355\", {\"entities\": [(0, 19, \"CREDIT_CARD\")]}),\n",
        "    (\"1234 5678 9012 3456.\", {\"entities\": [(0, 19, \"CREDIT_CARD\")]}),\n",
        "    (\"I accidentally shared my card details 9876 5432 1098 7654 with someone.\", {\"entities\": [(31, 50, \"CREDIT_CARD\")]}),\n",
        "    (\"I paid with my credit card 4532 0136 7890 1245 for the purchase.\", {\"entities\": [(27, 46, \"CREDIT_CARD\")]}),\n",
        "    (\"The transaction was made using card number 6011 5832 4321 9876.\", {\"entities\": [(37, 56, \"CREDIT_CARD\")]}),\n",
        "    (\"He entered the card details 3456 7890 1234 5678 on the website.\", {\"entities\": [(28, 47, \"CREDIT_CARD\")]}),\n",
        "    (\"My new credit card number is 4929 0123 4567 8901.\", {\"entities\": [(27, 46, \"CREDIT_CARD\")]}),\n",
        "    (\"Please use the following card 6771 5467 8901 2345 for payment.\", {\"entities\": [(29, 48, \"CREDIT_CARD\")]}),\n",
        "    (\"The customer provided card number 6011 0009 8765 4321 for billing.\", {\"entities\": [(31, 50, \"CREDIT_CARD\")]}),\n",
        "    (\"She handed over her card 4716 0123 4567 8901 at the counter.\", {\"entities\": [(24, 43, \"CREDIT_CARD\")]}),\n",
        "    (\"6011 1111 2222 3333 during checkout.\", {\"entities\": [(0, 19, \"CREDIT_CARD\")]}),\n",
        "    (\"4485 6789 0123 4567 online.\", {\"entities\": [(0, 19, \"CREDIT_CARD\")]}),\n",
        "    (\"2221 0012 3456 7890.\", {\"entities\": [(0, 19, \"CREDIT_CARD\")]}),\n",
        "]\n",
        "# Convert the training data to a list of Example objects\n",
        "examples = []\n",
        "for text, annots in TRAIN_DATA:\n",
        "    doc = nlp.make_doc(text)\n",
        "    example = Example.from_dict(doc, annots)\n",
        "    examples.append(example)\n",
        "\n",
        "# Train the NER model\n",
        "optimizer = nlp.resume_training()\n",
        "for i in range(30):  # Number of training iterations\n",
        "    random.shuffle(examples)\n",
        "    losses = {}\n",
        "    batches = minibatch(examples, size=compounding(4.0, 32.0, 1.001))\n",
        "    for batch in batches:\n",
        "        nlp.update(batch, sgd=optimizer, drop=0.35, losses=losses)\n",
        "\n",
        "# Test the new custom model\n",
        "txt = \"In West Philadelphia born and raised, on the playground is where Noble Ackerson spent most of the December. \"\n",
        "txt += \"Chillin out maxing relaxing in the Ghanaian farmlands he spent 25 dollars on 2 pounds of corn. \"\n",
        "txt += \"He used this credit card number 4000 7558 4051 5357 which seemed expired so he moved up to live with his auntie and uncle in Bel Air.\"\n",
        "\n",
        "# Process the text with the trained NER model\n",
        "doc = nlp(txt)\n",
        "\n",
        "# Render the named entities using displacy\n",
        "html = displacy.render(doc, style='ent', jupyter=False, page=True)\n",
        "\n",
        "# Display the HTML in the Colab output cell\n",
        "display(HTML(html))\n"
      ]
    },
    {
      "cell_type": "markdown",
      "metadata": {
        "id": "V5sz1Wsfg9XY"
      },
      "source": [
        "### Dealing with model overfitting\n",
        "\n",
        "Our model is overfitting the training data. \n",
        "\n",
        "\n",
        "\n"
      ]
    },
    {
      "cell_type": "code",
      "execution_count": null,
      "metadata": {
        "id": "EJlU8bQ8ykPv"
      },
      "outputs": [],
      "source": [
        "!python -m spacy download en_core_web_lg -q\n"
      ]
    },
    {
      "cell_type": "code",
      "execution_count": 45,
      "metadata": {
        "colab": {
          "base_uri": "https://localhost:8080/",
          "height": 911
        },
        "id": "zrA2TBFGrTv4",
        "outputId": "91ded11c-20c4-4c4f-f7fc-54dbd2ea2fe7"
      },
      "outputs": [
        {
          "output_type": "stream",
          "name": "stderr",
          "text": [
            "/usr/local/lib/python3.10/dist-packages/spacy/training/iob_utils.py:149: UserWarning: [W030] Some entities could not be aligned in the text \"My card number is 4290 7558 4051 8766. Can you che...\" with entities \"[(19, 39, 'CREDIT_CARD')]\". Use `spacy.training.offsets_to_biluo_tags(nlp.make_doc(text), entities)` to check the alignment. Misaligned entities ('-') will be ignored during training.\n",
            "  warnings.warn(\n",
            "/usr/local/lib/python3.10/dist-packages/spacy/training/iob_utils.py:149: UserWarning: [W030] Some entities could not be aligned in the text \"I accidentally shared my card details 9876 5432 10...\" with entities \"[(32, 52, 'CREDIT_CARD')]\". Use `spacy.training.offsets_to_biluo_tags(nlp.make_doc(text), entities)` to check the alignment. Misaligned entities ('-') will be ignored during training.\n",
            "  warnings.warn(\n",
            "/usr/local/lib/python3.10/dist-packages/spacy/training/iob_utils.py:149: UserWarning: [W030] Some entities could not be aligned in the text \"I paid with my credit card 4532 6457 7890 1245 for...\" with entities \"[(28, 48, 'CREDIT_CARD')]\". Use `spacy.training.offsets_to_biluo_tags(nlp.make_doc(text), entities)` to check the alignment. Misaligned entities ('-') will be ignored during training.\n",
            "  warnings.warn(\n",
            "/usr/local/lib/python3.10/dist-packages/spacy/training/iob_utils.py:149: UserWarning: [W030] Some entities could not be aligned in the text \"The transaction was made using card number 6011 58...\" with entities \"[(38, 58, 'CREDIT_CARD')]\". Use `spacy.training.offsets_to_biluo_tags(nlp.make_doc(text), entities)` to check the alignment. Misaligned entities ('-') will be ignored during training.\n",
            "  warnings.warn(\n",
            "/usr/local/lib/python3.10/dist-packages/spacy/training/iob_utils.py:149: UserWarning: [W030] Some entities could not be aligned in the text \"Please use the following card 6771 5467 432 2345 f...\" with entities \"[(30, 50, 'CREDIT_CARD')]\". Use `spacy.training.offsets_to_biluo_tags(nlp.make_doc(text), entities)` to check the alignment. Misaligned entities ('-') will be ignored during training.\n",
            "  warnings.warn(\n",
            "/usr/local/lib/python3.10/dist-packages/spacy/training/iob_utils.py:149: UserWarning: [W030] Some entities could not be aligned in the text \"The customer provided card number 6011 0009 8765 4...\" with entities \"[(32, 52, 'CREDIT_CARD')]\". Use `spacy.training.offsets_to_biluo_tags(nlp.make_doc(text), entities)` to check the alignment. Misaligned entities ('-') will be ignored during training.\n",
            "  warnings.warn(\n",
            "/usr/local/lib/python3.10/dist-packages/spacy/training/iob_utils.py:149: UserWarning: [W030] Some entities could not be aligned in the text \"She handed over her card 4716 0123 4567 8901 at th...\" with entities \"[(25, 45, 'CREDIT_CARD')]\". Use `spacy.training.offsets_to_biluo_tags(nlp.make_doc(text), entities)` to check the alignment. Misaligned entities ('-') will be ignored during training.\n",
            "  warnings.warn(\n",
            "/usr/local/lib/python3.10/dist-packages/spacy/training/iob_utils.py:149: UserWarning: [W030] Some entities could not be aligned in the text \"I made an online payment using 4485 1111 0123 4567...\" with entities \"[(29, 49, 'CREDIT_CARD')]\". Use `spacy.training.offsets_to_biluo_tags(nlp.make_doc(text), entities)` to check the alignment. Misaligned entities ('-') will be ignored during training.\n",
            "  warnings.warn(\n",
            "/usr/local/lib/python3.10/dist-packages/spacy/training/iob_utils.py:149: UserWarning: [W030] Some entities could not be aligned in the text \"The card 2221 0012 3456 7890 was declined.\" with entities \"[(9, 29, 'CREDIT_CARD')]\". Use `spacy.training.offsets_to_biluo_tags(nlp.make_doc(text), entities)` to check the alignment. Misaligned entities ('-') will be ignored during training.\n",
            "  warnings.warn(\n",
            "/usr/local/lib/python3.10/dist-packages/spacy/training/iob_utils.py:149: UserWarning: [W030] Some entities could not be aligned in the text \"I lost my wallet and it had my credit card 1234 56...\" with entities \"[(40, 60, 'CREDIT_CARD')]\". Use `spacy.training.offsets_to_biluo_tags(nlp.make_doc(text), entities)` to check the alignment. Misaligned entities ('-') will be ignored during training.\n",
            "  warnings.warn(\n",
            "/usr/local/lib/python3.10/dist-packages/spacy/training/iob_utils.py:149: UserWarning: [W030] Some entities could not be aligned in the text \"Can you confirm if the card 5555 4444 3333 2222 is...\" with entities \"[(29, 49, 'CREDIT_CARD')]\". Use `spacy.training.offsets_to_biluo_tags(nlp.make_doc(text), entities)` to check the alignment. Misaligned entities ('-') will be ignored during training.\n",
            "  warnings.warn(\n",
            "/usr/local/lib/python3.10/dist-packages/spacy/training/iob_utils.py:149: UserWarning: [W030] Some entities could not be aligned in the text \"I received a new card with number 1111 0984 3333 4...\" with entities \"[(32, 52, 'CREDIT_CARD')]\". Use `spacy.training.offsets_to_biluo_tags(nlp.make_doc(text), entities)` to check the alignment. Misaligned entities ('-') will be ignored during training.\n",
            "  warnings.warn(\n",
            "/usr/local/lib/python3.10/dist-packages/spacy/training/iob_utils.py:149: UserWarning: [W030] Some entities could not be aligned in the text \"In West Philadelphia born and raised, on the playg...\" with entities \"[(3, 17, 'GPE'), (65, 79, 'PERSON')]\". Use `spacy.training.offsets_to_biluo_tags(nlp.make_doc(text), entities)` to check the alignment. Misaligned entities ('-') will be ignored during training.\n",
            "  warnings.warn(\n",
            "/usr/local/lib/python3.10/dist-packages/spacy/training/iob_utils.py:149: UserWarning: [W030] Some entities could not be aligned in the text \"Chillin out maxing relaxing in the Ghanaian farmla...\" with entities \"[(32, 40, 'NORP'), (62, 73, 'MONEY'), (77, 85, 'QU...\". Use `spacy.training.offsets_to_biluo_tags(nlp.make_doc(text), entities)` to check the alignment. Misaligned entities ('-') will be ignored during training.\n",
            "  warnings.warn(\n",
            "/usr/local/lib/python3.10/dist-packages/spacy/training/iob_utils.py:149: UserWarning: [W030] Some entities could not be aligned in the text \"He moved up to live with his auntie and uncle in B...\" with entities \"[(47, 54, 'GPE')]\". Use `spacy.training.offsets_to_biluo_tags(nlp.make_doc(text), entities)` to check the alignment. Misaligned entities ('-') will be ignored during training.\n",
            "  warnings.warn(\n"
          ]
        },
        {
          "output_type": "stream",
          "name": "stdout",
          "text": [
            "4000 7558 4051 5357 | CREDIT_CARD | None\n",
            "1234 5678 9012 3456 | CREDIT_CARD | None\n",
            "9876 5432 1098 7654 | CREDIT_CARD | None\n",
            "2222 3333 4444 5555 | CREDIT_CARD | None\n",
            "6666 7777 8888 9999 | CREDIT_CARD | None\n",
            "1111 2222 3333 4444 | CREDIT_CARD | None\n",
            "8888 9999 1111 2222 | CREDIT_CARD | None\n",
            "5555 4444 3333 2222 | CREDIT_CARD | None\n",
            "6666 2222 3333 4444 | CREDIT_CARD | None\n",
            "1234 5678 0000 9999 | CREDIT_CARD | None\n"
          ]
        },
        {
          "output_type": "display_data",
          "data": {
            "text/plain": [
              "<IPython.core.display.HTML object>"
            ],
            "text/html": [
              "<!DOCTYPE html>\n",
              "<html lang=\"en\">\n",
              "    <head>\n",
              "        <title>displaCy</title>\n",
              "    </head>\n",
              "\n",
              "    <body style=\"font-size: 16px; font-family: -apple-system, BlinkMacSystemFont, 'Segoe UI', Helvetica, Arial, sans-serif, 'Apple Color Emoji', 'Segoe UI Emoji', 'Segoe UI Symbol'; padding: 4rem 2rem; direction: ltr\">\n",
              "<figure style=\"margin-bottom: 6rem\">\n",
              "<div class=\"entities\" style=\"line-height: 2.5; direction: ltr\">In \n",
              "<mark class=\"entity\" style=\"background: #feca74; padding: 0.45em 0.6em; margin: 0 0.25em; line-height: 1; border-radius: 0.35em;\">\n",
              "    West Philadelphia\n",
              "    <span style=\"font-size: 0.8em; font-weight: bold; line-height: 1; border-radius: 0.35em; vertical-align: middle; margin-left: 0.5rem\">GPE</span>\n",
              "</mark>\n",
              " born and raised, on the playground is where \n",
              "<mark class=\"entity\" style=\"background: #aa9cfc; padding: 0.45em 0.6em; margin: 0 0.25em; line-height: 1; border-radius: 0.35em;\">\n",
              "    Nhyra Quarcoopome\n",
              "    <span style=\"font-size: 0.8em; font-weight: bold; line-height: 1; border-radius: 0.35em; vertical-align: middle; margin-left: 0.5rem\">PERSON</span>\n",
              "</mark>\n",
              " spent most of the December. Chillin out maxing relaxing in the \n",
              "<mark class=\"entity\" style=\"background: #feca74; padding: 0.45em 0.6em; margin: 0 0.25em; line-height: 1; border-radius: 0.35em;\">\n",
              "    Ghana\n",
              "    <span style=\"font-size: 0.8em; font-weight: bold; line-height: 1; border-radius: 0.35em; vertical-align: middle; margin-left: 0.5rem\">GPE</span>\n",
              "</mark>\n",
              " farmlands he spent \n",
              "<mark class=\"entity\" style=\"background: #e4e7d2; padding: 0.45em 0.6em; margin: 0 0.25em; line-height: 1; border-radius: 0.35em;\">\n",
              "    25 dollars\n",
              "    <span style=\"font-size: 0.8em; font-weight: bold; line-height: 1; border-radius: 0.35em; vertical-align: middle; margin-left: 0.5rem\">QUANTITY</span>\n",
              "</mark>\n",
              " on \n",
              "<mark class=\"entity\" style=\"background: #e4e7d2; padding: 0.45em 0.6em; margin: 0 0.25em; line-height: 1; border-radius: 0.35em;\">\n",
              "    2 pounds\n",
              "    <span style=\"font-size: 0.8em; font-weight: bold; line-height: 1; border-radius: 0.35em; vertical-align: middle; margin-left: 0.5rem\">QUANTITY</span>\n",
              "</mark>\n",
              " of corn. He used this credit card number \n",
              "<mark class=\"entity\" style=\"background: #ddd; padding: 0.45em 0.6em; margin: 0 0.25em; line-height: 1; border-radius: 0.35em;\">\n",
              "    4000 2311 0987 5357\n",
              "    <span style=\"font-size: 0.8em; font-weight: bold; line-height: 1; border-radius: 0.35em; vertical-align: middle; margin-left: 0.5rem\">CREDIT_CARD</span>\n",
              "</mark>\n",
              " which seemed expired so he moved up to live with his auntie and uncle in \n",
              "<mark class=\"entity\" style=\"background: #ddd; padding: 0.45em 0.6em; margin: 0 0.25em; line-height: 1; border-radius: 0.35em;\">\n",
              "    Bel Air\n",
              "    <span style=\"font-size: 0.8em; font-weight: bold; line-height: 1; border-radius: 0.35em; vertical-align: middle; margin-left: 0.5rem\">CREDIT_CARD</span>\n",
              "</mark>\n",
              ".</div>\n",
              "</figure>\n",
              "</body>\n",
              "</html>"
            ]
          },
          "metadata": {}
        }
      ],
      "source": [
        "\n",
        "\n",
        "# Text, entity tuple: Prepare labeled training data with correct character offsets \n",
        "TRAIN_DATA = [\n",
        "    (\"My card number is 4290 7558 4051 8766. Can you check if it's valid?\", {\"entities\": [(19, 39, \"CREDIT_CARD\")]}),\n",
        "    (\"I accidentally shared my card details 9876 5432 1098 7654 with someone.\", {\"entities\": [(32, 52, \"CREDIT_CARD\")]}),\n",
        "    (\"I paid with my credit card 4532 6457 7890 1245 for the purchase.\", {\"entities\": [(28, 48, \"CREDIT_CARD\")]}),\n",
        "    (\"The transaction was made using card number 6011 5832 4321 9876.\", {\"entities\": [(38, 58, \"CREDIT_CARD\")]}),\n",
        "    (\"He entered the card details 3456 7890 1234 5678 on the website.\", {\"entities\": [(29, 49, \"CREDIT_CARD\")]}),\n",
        "    (\"My new credit card number is 4929 0123 4567 8901.\", {\"entities\": [(28, 48, \"CREDIT_CARD\")]}),\n",
        "    (\"Please use the following card 6771 5467 432 2345 for payment.\", {\"entities\": [(30, 50, \"CREDIT_CARD\")]}),\n",
        "    (\"The customer provided card number 6011 0009 8765 4321 for billing.\", {\"entities\": [(32, 52, \"CREDIT_CARD\")]}),\n",
        "    (\"She handed over her card 4716 0123 4567 8901 at the counter.\", {\"entities\": [(25, 45, \"CREDIT_CARD\")]}),\n",
        "    (\"6011 1111 2222 3333 was used during checkout.\", {\"entities\": [(0, 19, \"CREDIT_CARD\")]}),\n",
        "    (\"I made an online payment using 4485 1111 0123 4567.\", {\"entities\": [(29, 49, \"CREDIT_CARD\")]}),\n",
        "    (\"The card 2221 0012 3456 7890 was declined.\", {\"entities\": [(9, 29, \"CREDIT_CARD\")]}),\n",
        "    (\"I lost my wallet and it had my credit card 1234 5678 9012 3456 in it.\", {\"entities\": [(40, 60, \"CREDIT_CARD\")]}),\n",
        "    (\"Can you confirm if the card 5555 4444 3333 2222 is still active?\", {\"entities\": [(29, 49, \"CREDIT_CARD\")]}),\n",
        "    (\"I received a new card with number 1111 0984 3333 4444 from the bank.\", {\"entities\": [(32, 52, \"CREDIT_CARD\")]}),\n",
        "]\n",
        "\n",
        "TRAIN_DATA.extend([\n",
        "    (\"In West Philadelphia born and raised, on the playground is where Noble Ackerson spent most of the December.\", {\"entities\": [(3, 17, \"GPE\"), (65, 79, \"PERSON\")]}),\n",
        "    (\"Chillin out maxing relaxing in the Ghanaian farmlands he spent 25 dollars on 2 pounds of corn.\", {\"entities\": [(32, 40, \"NORP\"), (62, 73, \"MONEY\"), (77, 85, \"QUANTITY\")]}),\n",
        "    (\"He moved up to live with his auntie and uncle in Bel Air.\", {\"entities\": [(47, 54, \"GPE\")]}),\n",
        "])\n",
        "\n",
        "# Prepare labeled evaluation data (separate from training data)\n",
        "EVAL_DATA = [\n",
        "    (\"He used this credit card number 4000 7558 4051 5357 which seemed expired.\", {\"entities\": [(32, 51, \"CREDIT_CARD\")]}),\n",
        "    (\"The payment was made with card 1234 5678 9012 3456 on the website.\", {\"entities\": [(28, 47, \"CREDIT_CARD\")]}),\n",
        "    (\"I need to update my card details to 9876 5432 1098 7654 for future transactions.\", {\"entities\": [(31, 50, \"CREDIT_CARD\")]}),\n",
        "    (\"My old card 2222 3333 4444 5555 was lost, so I got a new one: 6666 7777 8888 9999.\", {\"entities\": [(10, 29, \"CREDIT_CARD\"), (58, 77, \"CREDIT_CARD\")]}),\n",
        "    (\"The customer's card number is 1111 2222 3333 4444, and the expiry date is 12/25.\", {\"entities\": [(26, 45, \"CREDIT_CARD\")]}),\n",
        "    (\"I accidentally entered the wrong card number 8888 9999 1111 2222 during checkout.\", {\"entities\": [(40, 59, \"CREDIT_CARD\")]}),\n",
        "    (\"For online purchases, you can use card 5555 4444 3333 2222 or card 6666 2222 3333 4444.\", {\"entities\": [(35, 54, \"CREDIT_CARD\"), (63, 82, \"CREDIT_CARD\")]}),\n",
        "    (\"The transaction failed because the card 1234 5678 0000 9999 was declined.\", {\"entities\": [(37, 56, \"CREDIT_CARD\")]}),\n",
        "]\n",
        "\n",
        "# Convert the training data to a list of Example objects\n",
        "examples = []\n",
        "for text, annots in TRAIN_DATA:\n",
        "    doc = nlp.make_doc(text)\n",
        "    example = Example.from_dict(doc, annots)\n",
        "    examples.append(example)\n",
        "\n",
        "# Train the NER model\n",
        "optimizer = nlp.resume_training()\n",
        "for i in range(20):  # Increased number of training iterations\n",
        "    random.shuffle(examples)\n",
        "    losses = {}\n",
        "    batches = minibatch(examples, size=compounding(4.0, 32.0, 1.001))\n",
        "    for batch in batches:\n",
        "        nlp.update(batch, sgd=optimizer, drop=0.35, losses=losses)\n",
        "\n",
        "# Evaluate the model on the evaluation set\n",
        "for text, annots in EVAL_DATA:\n",
        "    doc = nlp(text)\n",
        "    \n",
        "    for ent in doc.ents:\n",
        "      print (ent.text, \"|\", ent.label_, \"|\", spacy.explain(ent.label_))\n",
        "\n",
        "# Define the text variable\n",
        "txt = \"In West Philadelphia born and raised, on the playground is where Nhyra Quarcoopome spent most of the December. \"\n",
        "txt += \"Chillin out maxing relaxing in the Ghana farmlands he spent 25 dollars on 2 pounds of corn. \"\n",
        "txt += \"He used this credit card number 4000 2311 0987 5357 which seemed expired so he moved up to live with his auntie and uncle in Bel Air.\"\n",
        "\n",
        "# Process the text with the trained NER model\n",
        "doc = nlp(txt)\n",
        "\n",
        "# Render the named entities using displacy\n",
        "html = displacy.render(doc, style='ent', jupyter=False, page=True)\n",
        "\n",
        "# Display the HTML in the output cell\n",
        "display(HTML(html))\n"
      ]
    },
    {
      "cell_type": "markdown",
      "metadata": {
        "id": "bPICUDd7_DOm"
      },
      "source": [
        "# Bringing it all together with best practices in NLP development\n",
        "\n",
        "Load the ner pipeline and create training and evaluation data \n",
        "\n",
        "for the \"CREDIT_CARD\" entity from a data source like a JSON file.\n",
        "\n",
        "Upload to and deploy on Vertex"
      ]
    },
    {
      "cell_type": "markdown",
      "metadata": {
        "id": "AbbuEYne_PMa"
      },
      "source": [
        "### 4.1 Load & Train the NER model"
      ]
    },
    {
      "cell_type": "code",
      "execution_count": null,
      "metadata": {
        "id": "EUH-56P4nUnJ"
      },
      "outputs": [],
      "source": [
        "!pip install google-cloud-aiplatform \n"
      ]
    },
    {
      "cell_type": "code",
      "execution_count": 31,
      "metadata": {
        "colab": {
          "base_uri": "https://localhost:8080/"
        },
        "id": "ZRAA3UHS2Zsh",
        "outputId": "92a2df63-1360-46af-dcf8-d2fa24273c9a"
      },
      "outputs": [
        {
          "output_type": "stream",
          "name": "stdout",
          "text": [
            "Mounted at /content/drive/\n"
          ]
        }
      ],
      "source": [
        "# Ingesting large datasets\n",
        "from google.colab import drive\n",
        "drive.mount('/content/drive/')\n"
      ]
    },
    {
      "cell_type": "code",
      "execution_count": 32,
      "metadata": {
        "id": "H2A8XOEJ_ChQ"
      },
      "outputs": [],
      "source": [
        "import json\n",
        "import random\n",
        "from spacy.util import minibatch, compounding\n",
        "from spacy.training import Example\n",
        "from spacy import displacy\n",
        "#from google.cloud import aiplatform\n",
        "\n",
        "# Get the NER component\n",
        "ner = nlp.get_pipe(\"ner\")\n",
        "\n",
        "# Add the new entity label to the NER component\n",
        "ner.add_label(\"CREDIT_CARD\")\n",
        "\n",
        "# Load training data from a JSON file\n",
        "train_source = \"/content/drive/MyDrive/GDE_CONTENT_TALKS/2023/data/train_data.json\"\n",
        "with open(train_source, 'r') as f:\n",
        "    TRAIN_DATA = json.load(f)\n",
        "\n",
        "# Prepare labeled evaluation data\n",
        "eval_source = \"/content/drive/MyDrive/GDE_CONTENT_TALKS/2023/data/eval_data.json\"\n",
        "with open(eval_source, 'r') as f:\n",
        "    EVAL_DATA = json.load(f)\n",
        "\n",
        "# Convert the training data to a list of Example objects\n",
        "examples = []\n",
        "for text, annots in TRAIN_DATA:\n",
        "    doc = nlp.make_doc(text)\n",
        "    example = Example.from_dict(doc, annots)\n",
        "    examples.append(example)\n",
        "\n",
        "# Train the NER model\n",
        "optimizer = nlp.resume_training()\n",
        "for i in range(100):  # Increased number of training iterations\n",
        "    random.shuffle(examples)\n",
        "    losses = {}\n",
        "    batches = minibatch(examples, size=compounding(4.0, 32.0, 1.001))\n",
        "    for batch in batches:\n",
        "        nlp.update(batch, sgd=optimizer, drop=0.35, losses=losses)\n",
        "\n",
        "# Save the trained model\n",
        "nlp.to_disk(\"./custom_ner_model\")\n",
        "\n",
        "\n"
      ]
    },
    {
      "cell_type": "markdown",
      "metadata": {
        "id": "8OebKT1R_VN9"
      },
      "source": [
        "## 4.2. Evaluate & Test\n",
        "\n",
        "Evaluate the model on the evaluation data and visualize the results using displaCy.\n"
      ]
    },
    {
      "cell_type": "code",
      "execution_count": 33,
      "metadata": {
        "id": "TKnPE8PNpQnH"
      },
      "outputs": [],
      "source": [
        "!pip install seaborn pandas spacy -q\n"
      ]
    },
    {
      "cell_type": "code",
      "execution_count": null,
      "metadata": {
        "id": "to5fjH__SdqV"
      },
      "outputs": [],
      "source": [
        "#!python -m spacy download en_core_web_md -q"
      ]
    },
    {
      "cell_type": "code",
      "execution_count": 34,
      "metadata": {
        "colab": {
          "base_uri": "https://localhost:8080/",
          "height": 701
        },
        "id": "C9LFNy4dpZ6I",
        "outputId": "c042c2ab-7306-4909-ee79-21541d8c56d6"
      },
      "outputs": [
        {
          "output_type": "stream",
          "name": "stdout",
          "text": [
            "Evaluation Metrics:\n",
            "{'token_acc': 1.0, 'token_p': 1.0, 'token_r': 1.0, 'token_f': 1.0, 'tag_acc': None, 'sents_p': None, 'sents_r': None, 'sents_f': None, 'dep_uas': None, 'dep_las': None, 'dep_las_per_type': None, 'pos_acc': None, 'morph_acc': None, 'morph_micro_p': None, 'morph_micro_r': None, 'morph_micro_f': None, 'morph_per_feat': None, 'lemma_acc': None, 'ents_p': 0.0, 'ents_r': 0.0, 'ents_f': 0.0, 'ents_per_type': {'CREDIT_CARD': {'p': 0.0, 'r': 0.0, 'f': 0.0}}}\n",
            "Confusion Matrix:\n"
          ]
        },
        {
          "output_type": "display_data",
          "data": {
            "text/plain": [
              "<Figure size 640x480 with 2 Axes>"
            ],
            "image/png": "[encoded data removed]"
          },
          "metadata": {}
        },
        {
          "output_type": "stream",
          "name": "stdout",
          "text": [
            "Classification Report:\n",
            "              precision  recall  f1-score  support\n",
            "CREDIT_CARD         1.0     1.0       1.0    200.0\n",
            "accuracy            1.0     1.0       1.0      1.0\n",
            "macro avg           1.0     1.0       1.0    200.0\n",
            "weighted avg        1.0     1.0       1.0    200.0\n"
          ]
        },
        {
          "output_type": "display_data",
          "data": {
            "text/plain": [
              "<IPython.core.display.HTML object>"
            ],
            "text/html": [
              "<span class=\"tex2jax_ignore\"><div class=\"entities\" style=\"line-height: 2.5; direction: ltr\">I am writing to report a bug in the website. I was trying to make a purchase, and when I entered my credit card number, it was displayed on the screen in plain text. I am concerned that this is a security risk, and I would like it to be fixed. Here is the credit card number that was displayed: \n",
              "<mark class=\"entity\" style=\"background: #ddd; padding: 0.45em 0.6em; margin: 0 0.25em; line-height: 1; border-radius: 0.35em;\">\n",
              "    2149889926091208\n",
              "    <span style=\"font-size: 0.8em; font-weight: bold; line-height: 1; border-radius: 0.35em; vertical-align: middle; margin-left: 0.5rem\">CREDIT_CARD</span>\n",
              "</mark>\n",
              " I am also concerned that other personal information may have been leaked. I would like to know what steps you are taking to protect my privacy. Thank you for your time.</div></span>"
            ]
          },
          "metadata": {}
        }
      ],
      "source": [
        "import json\n",
        "import spacy\n",
        "import pandas as pd\n",
        "import seaborn as sns\n",
        "import matplotlib.pyplot as plt\n",
        "from spacy.training import Example\n",
        "from spacy import displacy\n",
        "from spacy.scorer import Scorer\n",
        "from sklearn.metrics import confusion_matrix, classification_report\n",
        "\n",
        "# Load the saved model\n",
        "nlp = spacy.load(\"./custom_ner_model\")\n",
        "\n",
        "# Prepare labeled evaluation data\n",
        "eval_source = \"/content/drive/MyDrive/GDE_CONTENT_TALKS/2023/data/eval_data.json\"\n",
        "with open(eval_source, 'r') as f:\n",
        "    EVAL_DATA = json.load(f)\n",
        "\n",
        "# Convert the evaluation data to a list of Example objects\n",
        "eval_examples = []\n",
        "for text, annots in EVAL_DATA:\n",
        "    doc = nlp.make_doc(text)\n",
        "    example = Example.from_dict(doc, annots)\n",
        "    eval_examples.append(example)\n",
        "\n",
        "# Initialize the scorer\n",
        "scorer = Scorer(nlp)\n",
        "\n",
        "# Lists to keep predictions and true labels\n",
        "true_labels = []\n",
        "pred_labels = []\n",
        "\n",
        "for example in eval_examples:\n",
        "    # Score the example\n",
        "    scores = scorer.score([example])\n",
        "\n",
        "    # For the confusion matrix, we need the true labels and predicted labels\n",
        "    doc = nlp(example.text)\n",
        "    true_labels.extend([ent.label_ for ent in example.reference.ents])\n",
        "    pred_labels.extend([ent.label_ for ent in doc.ents])\n",
        "\n",
        "# Print the evaluation metrics\n",
        "print(\"Evaluation Metrics:\")\n",
        "print(scores)\n",
        "\n",
        "# Generate confusion matrix\n",
        "confusion = confusion_matrix(true_labels, pred_labels, labels=nlp.get_pipe('ner').labels)\n",
        "\n",
        "print('Confusion Matrix:')\n",
        "sns.heatmap(confusion, annot=True, fmt='d', cmap='Blues')\n",
        "plt.ylabel('Actual')\n",
        "plt.xlabel('Predicted')\n",
        "plt.show()\n",
        "\n",
        "# Generate classification report\n",
        "report = classification_report(true_labels, pred_labels, output_dict=True)\n",
        "\n",
        "# Convert report to DataFrame for a cleaner look\n",
        "report_df = pd.DataFrame(report).transpose()\n",
        "\n",
        "print('Classification Report:')\n",
        "print(report_df)\n",
        "\n",
        "# Perform a basic error analysis by manually inspecting a subset of the predictions\n",
        "for example in random.sample(eval_examples, 1):\n",
        "    doc = nlp(example.text)\n",
        "    displacy.render(doc, style='ent', jupyter=True)\n",
        "\n"
      ]
    },
    {
      "cell_type": "code",
      "execution_count": null,
      "metadata": {
        "id": "_8Vhv5u3xPcw"
      },
      "outputs": [],
      "source": [
        "import spacy\n",
        "from spacy import displacy\n",
        "import json\n",
        "\n",
        "# Load the trained model from disk\n",
        "nlp = spacy.load(\"./custom_ner_model\")\n",
        "\n",
        "# Load new test data \n",
        "test_source = \"/content/drive/MyDrive/GDE_CONTENT_TALKS/2023/data/test_data.json\"\n",
        "with open(test_source, 'r') as f:\n",
        "    TEST_DATA = json.load(f)\n",
        "\n",
        "# Select an example from the test data (let's use the first one)\n",
        "text, _ = TEST_DATA[5]\n",
        "\n",
        "# Process the text with the trained NER model\n",
        "doc = nlp(text)\n",
        "\n",
        "# Render the named entities using displaCy\n",
        "displacy.render(doc, style=\"ent\", jupyter=True)\n",
        "\n",
        "\n"
      ]
    },
    {
      "cell_type": "markdown",
      "metadata": {
        "id": "wd0luo5J45MC"
      },
      "source": [
        "## 4.3. Model deployment\n",
        "\n",
        "**My preference: Convert notebook to python and leverage zenML.**\n",
        "\n",
        "For this demo, we can fast track with Flask.\n",
        "\n",
        "Use Vertex, TFX (KerasNLP),or [an open source solution like ZenML](https://github.com/zenml-io/zenml/tree/main/examples/vertex_ai_orchestration) \n",
        "\n",
        "Following [the following tutorial](https://towardsdatascience.com/deploy-a-scikit-learn-nlp-model-with-docker-gcp-cloud-run-and-flask-ba958733997a) "
      ]
    },
    {
      "cell_type": "markdown",
      "metadata": {
        "id": "LyDp7K8us9Am"
      },
      "source": [
        "#### Package and deploy the API to Google Cloud Run:\n",
        "\n",
        "Create a Dockerfile in your project folder:\n",
        "```\n",
        "FROM tiangolo/uvicorn-gunicorn-fastapi:python3.9\n",
        "\n",
        "COPY ./app /app\n",
        "COPY ./trained_model /app/trained_model\n",
        "\n",
        "RUN pip install spacy\n",
        "\n",
        "```\n",
        "Build and push Docker image to **Artifact Registry** (Container Registry is being phased out, btw)\n",
        "\n",
        "```\n",
        "gcloud builds submit --tag gcr.io/your_project_id/ner-api\n",
        "```\n",
        "\n",
        "**Deploy to Google Cloud Run**\n",
        "```\n",
        "gcloud run deploy ner-api \\\n",
        "  --image gcr.io/project_id/ner-api \\\n",
        "  --platform managed \\\n",
        "  --region your_region \\\n",
        "  --allow-unauthenticated\n",
        "```\n",
        "\n",
        "\n"
      ]
    }
  ],
  "metadata": {
    "colab": {
      "provenance": [],
      "authorship_tag": "ABX9TyPT9Sw1LS86udRlv4pvkM+A"
    },
    "gpuClass": "standard",
    "kernelspec": {
      "display_name": "Python 3",
      "name": "python3"
    },
    "language_info": {
      "name": "python"
    }
  },
  "nbformat": 4,
  "nbformat_minor": 0
}